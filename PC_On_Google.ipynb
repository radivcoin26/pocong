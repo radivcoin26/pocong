{
  "nbformat": 4,
  "nbformat_minor": 0,
  "metadata": {
    "colab": {
      "name": "PC_On_Google.ipynb",
      "provenance": [],
      "collapsed_sections": [
        "i5K4z5KBuGEx"
      ]
    },
    "kernelspec": {
      "name": "python3",
      "display_name": "Python 3"
    },
    "language_info": {
      "name": "python"
    },
    "accelerator": "GPU"
  },
  "cells": [
    {
      "cell_type": "markdown",
      "metadata": {
        "id": "7U8mMA7ZBRMl"
      },
      "source": [
        "## <img src='https://radivcoin.com/wp-content/uploads/2022/02/logo-fix.png' height=\"50\" alt=\"iceWM\" />\n",
        "##<font text-align='center'> ___PC Online Embah Google___ </font>\n",
        "\n",
        "#`SysTools(`<font size=\"3px\" color=\"#f8f800\">`noVNC`</font>, <font size=\"3px\" color=\"#aaabad\">`Crash Colab to clear all RAM`, <font size=\"3px\" color=\"#aaabad\">`Check VGA`, <font size=\"3px\" color=\"#aaabad\">`Check VM's Status`</font>)"
      ]
    },
    {
      "cell_type": "markdown",
      "metadata": {
        "id": "i5K4z5KBuGEx"
      },
      "source": [
        "## ___PC Online Embah Google___"
      ]
    },
    {
      "cell_type": "code",
      "metadata": {
        "id": "aNswlxgbuGE0",
        "cellView": "form"
      },
      "source": [
        "#@markdown <br><center><img src='https://radivcoin.com/wp-content/uploads/2022/02/logo-fix.png' height=\"100\" alt=\"iceWM\"/></center>\n",
        "#@markdown <center><h3>PC Online Embah Google</h3></center><br>\n",
        "import os\n",
        "import random\n",
        "import string\n",
        "import urllib.request\n",
        "from IPython.display import HTML, clear_output\n",
        "import time\n",
        "\n",
        "#####################################\n",
        "USE_FREE_TOKEN = False # @param {type:\"boolean\"}\n",
        "TOKEN = \"\"  # @param {type:\"string\"}\n",
        "REGION = \"EU\" #@param [\"US\", \"EU\", \"AP\", \"AU\", \"SA\", \"JP\", \"IN\"]\n",
        "PORT_FORWARD = \"ngrok\" #@param [\"ngrok\", \"localhost\", \"argotunnel\"]\n",
        "\n",
        "HOME = os.path.expanduser(\"~\")\n",
        "runW = get_ipython()\n",
        "\n",
        "if not os.path.exists(f\"{HOME}/.ipython/ocr.py\"):\n",
        "    hCode = \"https://raw.githubusercontent.com/radivcoin26/\" \\\n",
        "                \"pocong/main/res/ocr.py\"\n",
        "    urllib.request.urlretrieve(hCode, f\"{HOME}/.ipython/ocr.py\")\n",
        "\n",
        "from ocr import (\n",
        "    runSh,\n",
        "    loadingAn,\n",
        "    PortForward_wrapper,\n",
        "    displayUrl,\n",
        "    findProcess,\n",
        "    CWD,\n",
        "    textAn,\n",
        ")\n",
        "\n",
        "# github latest releases tag define\n",
        "def latestTag(link):\n",
        "  import re\n",
        "  from urllib.request import urlopen\n",
        "  htmlF = urlopen(link+\"/releases/latest\").read().decode('UTF-8')\n",
        "  return re.findall(r'.+\\/tag\\/([.0-9A-Za-z]+)\".+/', htmlF)[0]\n",
        "\n",
        "\n",
        "loadingAn()\n",
        "\n",
        "os.makedirs(\"tools/noVnc\", exist_ok=True)\n",
        "\n",
        "# password ganarate\n",
        "try:\n",
        "  print(f\"Found old password! : {password}\")\n",
        "except:\n",
        "  password = ''.join(random.choice(string.ascii_letters + string.digits) for i in range(20))\n",
        "\n",
        "\n",
        "clear_output()\n",
        "if not findProcess(\"Xtightvnc\", \":1\"):\n",
        "  textAn(\"Antosan Sakedap kiranglangkuk 60 Detik. Éta nuju disiapkeun pikeun VNC ......\")\n",
        "  os.makedirs(f'{HOME}/.vnc', exist_ok=True)\n",
        "  runW.system_raw('apt update -y')\n",
        "  runW.system_raw('apt install -y icewm firefox tightvncserver autocutsel xterm')\n",
        "\n",
        "  runW.system_raw(rf'echo \"{password}\" | vncpasswd -f > ~/.vnc/passwd')\n",
        "  data = \"\"\"\n",
        "#!/bin/bash\n",
        "xrdb $HOME/.Xresources\n",
        "xsetroot -solid black -cursor_name left_ptr\n",
        "autocutsel -fork\n",
        "icewm-session &\n",
        "\"\"\"\n",
        "  with open(f'{HOME}/.vnc/xstartup', 'w+') as wNow:\n",
        "    wNow.write(data)\n",
        "  os.chmod(f'{HOME}/.vnc/xstartup', 0o755)\n",
        "  os.chmod(f'{HOME}/.vnc/passwd', 0o400)\n",
        "  \n",
        "  runSh('sudo vncserver :1 -geometry 1440x870 -economictranslate -dontdisconnect &', \n",
        "        shell=True)\n",
        "\n",
        "  BASE_URL = \"https://github.com/geek1011/easy-novnc\"\n",
        "  LATEST_TAG = latestTag(BASE_URL)\n",
        "  output_file = \"tools/noVnc/easy-noVnc_linux-64bit\"\n",
        "  file_name = f\"easy-novnc_linux-64bit\"\n",
        "  urlF = f\"{BASE_URL}/releases/download/{LATEST_TAG}/{file_name}\"\n",
        "  try:\n",
        "    urllib.request.urlretrieve(urlF, output_file)\n",
        "  except OSError:\n",
        "    pass\n",
        "  os.chmod(output_file, 0o755)\n",
        "\n",
        "if not findProcess(\"easy-noVnc_linux-64bit\", '--addr \"0.0.0.0:6080\"'):\n",
        "  cmdDo = \"./easy-noVnc_linux-64bit --addr 0.0.0.0:6080 --port 5901\" \\\n",
        "    \" &\"\n",
        "  runSh(cmdDo, \n",
        "        cd=\"tools/noVnc/\",\n",
        "        shell=True)\n",
        "\n",
        "\n",
        "# START_SERVER\n",
        "# Ngrok region 'us','eu','ap','au','sa','jp','in'\n",
        "clear_output()\n",
        "Server = PortForward_wrapper(PORT_FORWARD, TOKEN, USE_FREE_TOKEN, [['vnc', 6080, 'http']], REGION.lower(), \n",
        "               [f\"{HOME}/.ngrok2/noVncFast.yml\", 4455])\n",
        "\n",
        "data = Server.start('vnc', displayB=False)\n",
        "# clear_output()\n",
        "displayUrl(data, pNamU='noVnc : ',\n",
        "            EcUrl=f'/vnc.html?autoconnect=true&password={password}&path=vnc&resize=scale&reconnect=true&show_dot=true')"
      ],
      "execution_count": null,
      "outputs": []
    },
    {
      "cell_type": "markdown",
      "metadata": {
        "id": "wZMZjX127rmx"
      },
      "source": [
        "## __Crash Colab to clear all RAM__"
      ]
    },
    {
      "cell_type": "code",
      "metadata": {
        "id": "IkKy9cd6xfqV"
      },
      "source": [
        "!nvidia-smi"
      ],
      "execution_count": null,
      "outputs": []
    },
    {
      "cell_type": "code",
      "metadata": {
        "cellView": "form",
        "id": "6bkIZt2oYnnQ"
      },
      "source": [
        "# ============================= FORM ============================= #\n",
        "# @markdown #### ⬅️ Check VM's Status\n",
        "Check_IP = True \n",
        "Loop_Check = True  #@param {type:\"boolean\"}\n",
        "Loop_Interval = 3600 \n",
        "# ================================================================ #\n",
        "\n",
        "import time, requests\n",
        "from IPython.display import clear_output\n",
        "\n",
        "Loop = True\n",
        "try:\n",
        "    while Loop == True:\n",
        "        clear_output(wait=True)\n",
        "        !top -bcn1 -w512\n",
        "        sessionIP = f\"\\nYour Public IP: {requests.get('http://ip.42.pl/raw').text}:12121\"\n",
        "        if Check_IP: \n",
        "            print(sessionIP)             \n",
        "        print(\"====\")\n",
        "        if Loop_Check == False:\n",
        "            Loop = False\n",
        "        else:\n",
        "            time.sleep(Loop_Interval)\n",
        "except:\n",
        "  clear_output()"
      ],
      "execution_count": null,
      "outputs": []
    },
    {
      "cell_type": "code",
      "metadata": {
        "id": "tPuLCnbGFmxo",
        "cellView": "form"
      },
      "source": [
        "#@markdown <br><center><img src='https://upload.wikimedia.org/wikipedia/commons/thumb/d/da/Google_Drive_logo.png/600px-Google_Drive_logo.png' height=\"50\" alt=\"Gdrive-logo\"/></center>\n",
        "#@markdown <center><h3>Mount Gdrive to /content/drive</h3></center><br>\n",
        "MODE = \"MOUNT\" #@param [\"MOUNT\", \"UNMOUNT\"]\n",
        "#Mount your Gdrive! \n",
        "from google.colab import drive\n",
        "drive.mount._DEBUG = False\n",
        "if MODE == \"MOUNT\":\n",
        "  drive.mount('/content/drive', force_remount=True)\n",
        "elif MODE == \"UNMOUNT\":\n",
        "  try:\n",
        "    drive.flush_and_unmount()\n",
        "  except ValueError:\n",
        "    pass\n",
        "  get_ipython().system_raw(\"rm -rf /root/.config/Google/DriveFS\")"
      ],
      "execution_count": null,
      "outputs": []
    },
    {
      "cell_type": "code",
      "metadata": {
        "id": "OH3xVkwWmPYL",
        "cellView": "form"
      },
      "source": [
        "#@title ← ឵឵ ឵Run this cell to crash your current Runtime if you're low on memory\n",
        "#@markdown <i>After crashing, you'll have access to all the preoccupied storage. Then it'll help you for Rclone cache file storage increase (Recommend for a first run this cell) </i>\n",
        "some_str = ' ' * 5120000000000"
      ],
      "execution_count": null,
      "outputs": []
    }
  ]
}